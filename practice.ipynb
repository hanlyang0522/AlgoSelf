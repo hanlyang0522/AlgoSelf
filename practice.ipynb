{
 "cells": [
  {
   "cell_type": "code",
   "execution_count": 14,
   "metadata": {},
   "outputs": [],
   "source": [
    "p1, p2 = [3, 2, 7, 2], [4, 6, 5, 1]\n",
    "r = p1[:-1]\n",
    "p1[:-1].append(p2[0])\n",
    "# r"
   ]
  },
  {
   "cell_type": "code",
   "execution_count": 1,
   "metadata": {},
   "outputs": [
    {
     "data": {
      "text/plain": [
       "[[0, 100, 100, 100, 100],\n",
       " [100, 0, 100, 100, 100],\n",
       " [100, 100, 0, 100, 100],\n",
       " [100, 100, 100, 0, 100],\n",
       " [100, 100, 100, 100, 0]]"
      ]
     },
     "execution_count": 1,
     "metadata": {},
     "output_type": "execute_result"
    }
   ],
   "source": [
    "n=5\n",
    "graph = [[0 if i==j else 100 for i in range(n)] for j in range(n)]\n",
    "graph"
   ]
  },
  {
   "cell_type": "code",
   "execution_count": 38,
   "metadata": {},
   "outputs": [
    {
     "ename": "ValueError",
     "evalue": "must have exactly one of create/read/write/append mode",
     "output_type": "error",
     "traceback": [
      "\u001b[1;31m---------------------------------------------------------------------------\u001b[0m",
      "\u001b[1;31mValueError\u001b[0m                                Traceback (most recent call last)",
      "\u001b[1;32m~\\AppData\\Local\\Temp/ipykernel_1964/1169684335.py\u001b[0m in \u001b[0;36m<module>\u001b[1;34m\u001b[0m\n\u001b[0;32m     34\u001b[0m \u001b[1;31m# parse2()\u001b[0m\u001b[1;33m\u001b[0m\u001b[1;33m\u001b[0m\u001b[0m\n\u001b[0;32m     35\u001b[0m \u001b[1;31m# parse3()\u001b[0m\u001b[1;33m\u001b[0m\u001b[1;33m\u001b[0m\u001b[0m\n\u001b[1;32m---> 36\u001b[1;33m \u001b[0mparse4\u001b[0m\u001b[1;33m(\u001b[0m\u001b[1;33m)\u001b[0m\u001b[1;33m\u001b[0m\u001b[1;33m\u001b[0m\u001b[0m\n\u001b[0m\u001b[0;32m     37\u001b[0m \u001b[1;31m# parse5()\u001b[0m\u001b[1;33m\u001b[0m\u001b[1;33m\u001b[0m\u001b[0m\n",
      "\u001b[1;32m~\\AppData\\Local\\Temp/ipykernel_1964/1169684335.py\u001b[0m in \u001b[0;36mparse4\u001b[1;34m()\u001b[0m\n\u001b[0;32m     24\u001b[0m \u001b[1;33m\u001b[0m\u001b[0m\n\u001b[0;32m     25\u001b[0m \u001b[1;32mdef\u001b[0m \u001b[0mparse4\u001b[0m\u001b[1;33m(\u001b[0m\u001b[1;33m)\u001b[0m\u001b[1;33m:\u001b[0m\u001b[1;33m\u001b[0m\u001b[1;33m\u001b[0m\u001b[0m\n\u001b[1;32m---> 26\u001b[1;33m     \u001b[1;32mfor\u001b[0m \u001b[0mline\u001b[0m \u001b[1;32min\u001b[0m \u001b[0mopen\u001b[0m\u001b[1;33m(\u001b[0m\u001b[1;34m\"log.txt\"\u001b[0m\u001b[1;33m,\u001b[0m \u001b[1;34m\"rw\"\u001b[0m\u001b[1;33m)\u001b[0m\u001b[1;33m:\u001b[0m\u001b[1;33m\u001b[0m\u001b[1;33m\u001b[0m\u001b[0m\n\u001b[0m\u001b[0;32m     27\u001b[0m         \u001b[0mprint\u001b[0m\u001b[1;33m(\u001b[0m\u001b[1;34m\" \"\u001b[0m\u001b[1;33m.\u001b[0m\u001b[0mjoin\u001b[0m\u001b[1;33m(\u001b[0m\u001b[0mline\u001b[0m\u001b[1;33m.\u001b[0m\u001b[0msplit\u001b[0m\u001b[1;33m(\u001b[0m\u001b[1;33m)\u001b[0m\u001b[1;33m[\u001b[0m\u001b[1;36m3\u001b[0m\u001b[1;33m:\u001b[0m\u001b[1;36m5\u001b[0m\u001b[1;33m]\u001b[0m\u001b[1;33m)\u001b[0m\u001b[1;33m.\u001b[0m\u001b[0mstrip\u001b[0m\u001b[1;33m(\u001b[0m\u001b[1;34m\"[]\"\u001b[0m\u001b[1;33m)\u001b[0m\u001b[1;33m)\u001b[0m\u001b[1;33m\u001b[0m\u001b[1;33m\u001b[0m\u001b[0m\n\u001b[0;32m     28\u001b[0m \u001b[1;33m\u001b[0m\u001b[0m\n",
      "\u001b[1;31mValueError\u001b[0m: must have exactly one of create/read/write/append mode"
     ]
    }
   ],
   "source": [
    "import re\n",
    "\n",
    "\"\"\"\n",
    "Content of \"log.txt\":\n",
    "10.1.2.1 - car [01/Mar/2022:13:05:05 +0900] \"GET /python HTTP/1.0\" 200 2222\n",
    "10.1.1.9 - bike [01/Mar/2022:13:05:10 +0900] \"GET /python HTTP/1.0\" 200 2222\n",
    "\n",
    "Expected output:\n",
    "01/Mar/2022:13:05:05 +0900\n",
    "01/Mar/2022:13:05:10 +0900\n",
    "\"\"\"\n",
    "\n",
    "def parse1():\n",
    "    for line in open(\"log.txt\"):\n",
    "        print(line.split(\"[\")[1].split(\"]\")[0])\n",
    "\n",
    "def parse2():\n",
    "    for line in open(\"log.txt\", \"r\"):\n",
    "        print(line.split()[3].strip(\"[]\"))\n",
    "\n",
    "def parse3():\n",
    "    for line in open(\"log.txt\", \"r\"):\n",
    "        print(\" \".join(line.split(\"[\" or \"]\")[3:5]))\n",
    "\n",
    "def parse4():\n",
    "    for line in open(\"log.txt\", \"rw\"):\n",
    "        print(\" \".join(line.split()[3:5]).strip(\"[]\"))\n",
    "  \n",
    "def parse5():\n",
    "    for line in open(\"log.txt\"):\n",
    "        print(re.split(\"\\[|\\]\", line)[1])\n",
    "\n",
    "# parse1()\n",
    "# parse2()\n",
    "# parse3()\n",
    "parse4()\n",
    "# parse5()"
   ]
  },
  {
   "cell_type": "code",
   "execution_count": 39,
   "metadata": {},
   "outputs": [
    {
     "name": "stdout",
     "output_type": "stream",
     "text": [
      "FunEvent(tags=['google', 'ml', 'bootcamp'], year=2022)\n"
     ]
    }
   ],
   "source": [
    "class FunEvent:\n",
    "    def __init__(self, tags, year):\n",
    "        self.tags = tags\n",
    "        self.year = year\n",
    "    \n",
    "    def __str__(self):\n",
    "        return f\"FunEvent(tags={self.tags}, year={self.year})\"\n",
    "\n",
    "tags = [\"google\", \"ml\"]\n",
    "year = 2022\n",
    "bootcamp = FunEvent(tags, year)\n",
    "tags.append(\"bootcamp\")\n",
    "year = 2023\n",
    "print(bootcamp)"
   ]
  },
  {
   "cell_type": "code",
   "execution_count": 48,
   "metadata": {},
   "outputs": [],
   "source": [
    "class BaseLayer:\n",
    "    def __init__(self, name=\"\"):\n",
    "        self.name = name\n",
    "\n",
    "    def __repr__(self):\n",
    "        return f\"{self.name}Layer\"\n",
    "\n",
    "class ActivationLayer(BaseLayer):\n",
    "    def __init__(self, size):\n",
    "        super().__init__(\"Activation\")\n",
    "        self.size = size\n",
    "\n",
    "class FCLayer(BaseLayer):\n",
    "    def __init__(self, size):\n",
    "        super().__init__(\"FullyConnected\")\n",
    "        self.size = size\n",
    "\n",
    "bs = BaseLayer()\n",
    "# bs.size\n",
    "# ac = ActivationLayer(5)\n",
    "# ac.name\n",
    "# print(FCLayer(42))"
   ]
  }
 ],
 "metadata": {
  "interpreter": {
   "hash": "32b5b4bc3096c0853ec40d06a58f8b07e13775f69d5d4427ec160bb908750a6a"
  },
  "kernelspec": {
   "display_name": "Python 3.9.7 64-bit",
   "language": "python",
   "name": "python3"
  },
  "language_info": {
   "codemirror_mode": {
    "name": "ipython",
    "version": 3
   },
   "file_extension": ".py",
   "mimetype": "text/x-python",
   "name": "python",
   "nbconvert_exporter": "python",
   "pygments_lexer": "ipython3",
   "version": "3.9.7"
  },
  "orig_nbformat": 4
 },
 "nbformat": 4,
 "nbformat_minor": 2
}
